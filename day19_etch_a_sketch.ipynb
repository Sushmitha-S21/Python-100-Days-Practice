{
 "cells": [
  {
   "cell_type": "code",
   "execution_count": 2,
   "metadata": {},
   "outputs": [],
   "source": [
    "from turtle import Turtle,Screen"
   ]
  },
  {
   "cell_type": "code",
   "execution_count": 10,
   "metadata": {},
   "outputs": [],
   "source": [
    "tim = Turtle()\n",
    "screen = Screen()\n",
    "\n",
    "def move_forward():\n",
    "    tim.forward(10)\n",
    "    \n",
    "def move_back():\n",
    "    tim.backward(10)\n",
    "\n",
    "def move_right():\n",
    "    tim.right(30)\n",
    "\n",
    "def move_left():\n",
    "    tim.left(10)\n",
    "\n",
    "def clear_screen():\n",
    "    tim.clear()\n",
    "    tim.penup() #lifts the turtle from the canvas and does not draw\n",
    "    tim.home()\n",
    "    tim.pendown()\n",
    "    \n",
    "screen.listen()\n",
    "screen.onkey(key='w',fun=move_forward)\n",
    "screen.onkey(key='s',fun=move_back)\n",
    "screen.onkey(key='a',fun=move_left)\n",
    "screen.onkey(key='d',fun=move_right)\n",
    "screen.onkey(key='c',fun=clear_screen)\n",
    "screen.exitonclick()"
   ]
  }
 ],
 "metadata": {
  "kernelspec": {
   "display_name": "Python 3",
   "language": "python",
   "name": "python3"
  },
  "language_info": {
   "codemirror_mode": {
    "name": "ipython",
    "version": 3
   },
   "file_extension": ".py",
   "mimetype": "text/x-python",
   "name": "python",
   "nbconvert_exporter": "python",
   "pygments_lexer": "ipython3",
   "version": "3.11.8"
  }
 },
 "nbformat": 4,
 "nbformat_minor": 2
}
